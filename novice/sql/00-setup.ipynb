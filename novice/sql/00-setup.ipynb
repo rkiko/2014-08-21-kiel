{
 "metadata": {
  "name": "00-setup"
 },
 "nbformat": 3,
 "nbformat_minor": 0,
 "worksheets": [
  {
   "cells": [
    {
     "cell_type": "heading",
     "level": 2,
     "metadata": {},
     "source": [
      "Setup"
     ]
    },
    {
     "cell_type": "markdown",
     "metadata": {},
     "source": [
      "This lesson will show you how to install the example database to be used in the next chapters. To be able to follow the instructions, you need to know how to move around in your directory using the command line and how to execute commands from the command line. If you are not familiar with these topics, please check http://software-carpentry.org/v5/novice/shell/index.html. In a later chapter, you will learn how to create and fill a database, but first we would like to demonstrate how an sql database works and therefore we provide the database up-front."
     ]
    },
    {
     "cell_type": "markdown",
     "metadata": {
      "cell_tags": [
       "objectives"
      ]
     },
     "source": [
      "#### Objectives\n",
      "\n",
      "*   Establish the example database to be used in the next chapters.\n",
      "*   Check that the database is available and which tables are to be found."
     ]
    },
    {
     "cell_type": "heading",
     "level": 3,
     "metadata": {},
     "source": [
      "Installation"
     ]
    },
    {
     "cell_type": "markdown",
     "metadata": {},
     "source": [
      "In order to execute the following lessons interactively, please install SQLite as mentioned in the setup instructions http://software-carpentry.org/v5/setup.html\n",
      "\n",
      "Generate a directory \"software_carpentry_sql\" at your chosen location, e.g.:"
     ]
    },
    {
     "cell_type": "code",
     "collapsed": false,
     "input": [
      "mkdir ~/swc/sql"
     ],
     "language": "python",
     "metadata": {},
     "outputs": []
    },
    {
     "cell_type": "raw",
     "metadata": {},
     "source": [
      "Move into that directory\n"
     ]
    },
    {
     "cell_type": "code",
     "collapsed": false,
     "input": [
      "cd ~/swc/sql"
     ],
     "language": "python",
     "metadata": {},
     "outputs": []
    },
    {
     "cell_type": "raw",
     "metadata": {},
     "source": [
      ", download https://github.com/swcarpentry/bc/blob/master/novice/sql/gen-survey-database.sql and execute"
     ]
    },
    {
     "cell_type": "code",
     "collapsed": false,
     "input": [
      "sqlite3 survey.db < gen-survey-database.sql"
     ],
     "language": "python",
     "metadata": {},
     "outputs": []
    },
    {
     "cell_type": "raw",
     "metadata": {},
     "source": [
      "This command calls the program sqlite3, which then generates the database survey.db and fills it according to the instructions and with the data in gen-survey-database.sql."
     ]
    },
    {
     "cell_type": "heading",
     "level": 3,
     "metadata": {},
     "source": [
      "Testing the installation"
     ]
    },
    {
     "cell_type": "raw",
     "metadata": {},
     "source": [
      "In order to connect to the created database, you need to start sqlite from within the folder in which you have just created the database. So, if you are in ~/swc/sql you can type:"
     ]
    },
    {
     "cell_type": "code",
     "collapsed": false,
     "input": [
      "sqlite3"
     ],
     "language": "python",
     "metadata": {},
     "outputs": []
    },
    {
     "cell_type": "raw",
     "metadata": {},
     "source": [
      "sqlite is than started which is indicated by the change of the command line prompt to \"sqlite\".  You can than connect to the database survey.db using"
     ]
    },
    {
     "cell_type": "code",
     "collapsed": false,
     "input": [
      ".open survey.db"
     ],
     "language": "python",
     "metadata": {},
     "outputs": []
    },
    {
     "cell_type": "raw",
     "metadata": {},
     "source": [
      "You can check that the necessary tables \"Person\", \"Survey\", \"Site\" and \"Visited\" exist by typing:"
     ]
    },
    {
     "cell_type": "code",
     "collapsed": false,
     "input": [
      ".tables"
     ],
     "language": "python",
     "metadata": {},
     "outputs": []
    },
    {
     "cell_type": "raw",
     "metadata": {},
     "source": [
      "You are now done with the setup and you can proceed to the next lesson. If you want to use an ipython notebook to follow the examples, you can do so by opening an ipython notebook from within the ~/swc/swl folder. Commands shown in the next lessons can be executed as they are in the ipython notebook. If you are using the command line sqlite, you can ommit the ipython magic methods (the first rows in each command starting with %)."
     ]
    }
   ],
   "metadata": {}
  }
 ]
}