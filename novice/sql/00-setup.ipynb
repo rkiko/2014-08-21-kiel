{
 "metadata": {
  "name": ""
 },
 "nbformat": 3,
 "nbformat_minor": 0,
 "worksheets": [
  {
   "cells": [
    {
     "cell_type": "heading",
     "level": 1,
     "metadata": {},
     "source": [
      "SQLite Setup "
     ]
    },
    {
     "cell_type": "markdown",
     "metadata": {},
     "source": [
      "This lesson will demonstrate how to install the example database to be used in the next chapters. To be able to follow the instructions, you need to know how to move around in your directory using the command line and how to execute commands from the command line. If you are not familiar with these topics, please read the [Unix Shell guide](http://software-carpentry.org/v5/novice/shell/index.html). In a later chapter, you will learn how to create and fill a database, but first we would like to demonstrate how an SQLite database works and therefore we provide the database up-front."
     ]
    },
    {
     "cell_type": "markdown",
     "metadata": {},
     "source": [
      "#### Objectives\n",
      "\n",
      "*   Establish the example database to be used in the next chapters.\n",
      "*   Check that the database is available and which tables are to be found."
     ]
    },
    {
     "cell_type": "markdown",
     "metadata": {},
     "source": [
      "## Installation"
     ]
    },
    {
     "cell_type": "markdown",
     "metadata": {},
     "source": [
      "In order to execute the following lessons interactively, please install SQLite as mentioned in the [setup instructions](http://software-carpentry.org/v5/setup.html).\n",
      "\n",
      "Then, generate a directory \"software_carpentry_sql\" at your chosen location, e.g.:"
     ]
    },
    {
     "cell_type": "raw",
     "metadata": {},
     "source": [
      "1. Open a command line terminal window.\n",
      "2. Type "
     ]
    },
    {
     "cell_type": "code",
     "collapsed": false,
     "input": [
      "mkdir ~/swc/sql"
     ],
     "language": "python",
     "metadata": {},
     "outputs": []
    },
    {
     "cell_type": "raw",
     "metadata": {},
     "source": [
      "3. Change into that directory"
     ]
    },
    {
     "cell_type": "code",
     "collapsed": false,
     "input": [
      "cd ~/swc/sql"
     ],
     "language": "python",
     "metadata": {},
     "outputs": []
    },
    {
     "cell_type": "raw",
     "metadata": {},
     "source": [
      "4. Download, https://github.com/swcarpentry/bc/blob/master/novice/sql/gen-survey-database.sql \n",
      "5. Execute"
     ]
    },
    {
     "cell_type": "code",
     "collapsed": false,
     "input": [
      "sqlite3 survey.db < gen-survey-database.sql"
     ],
     "language": "python",
     "metadata": {},
     "outputs": []
    },
    {
     "cell_type": "markdown",
     "metadata": {},
     "source": [
      "The above command calls the program SQLite3, which then generates the database \"survey.db\" and fills it according to the instructions and with the data in \"gen-survey-database.sql\"."
     ]
    },
    {
     "cell_type": "markdown",
     "metadata": {},
     "source": [
      "### Connecting and testing the SQLite DB installation"
     ]
    },
    {
     "cell_type": "markdown",
     "metadata": {},
     "source": [
      "In order to connect to the created database, you need to start SQLite from within the folder where you have created the database. So, from within the \"~/swc/sql\" directory, type:"
     ]
    },
    {
     "cell_type": "code",
     "collapsed": false,
     "input": [
      "sqlite3 survey.db"
     ],
     "language": "python",
     "metadata": {},
     "outputs": []
    },
    {
     "cell_type": "markdown",
     "metadata": {},
     "source": [
      "The command \"sqlite3 survey.db\" opens the database itself and drops you into the database command line prompt. In SQLite a database is a flat file, which needs to be explicitly opened. SQLite is then started which is indicated by the change of the command line prompt to \"sqlite\", as shown in the following output:"
     ]
    },
    {
     "cell_type": "raw",
     "metadata": {},
     "source": [
      "/novice/sql$ sqlite3 survey.db \n",
      "SQLite version 3.7.15.2 2013-01-09 11:53:05\n",
      "Enter \".help\" for instructions\n",
      "Enter SQL statements terminated with a \";\"\n",
      "sqlite>  "
     ]
    },
    {
     "cell_type": "markdown",
     "metadata": {},
     "source": [
      "Let us check the list the names and files of attached databases with the command \".databases\", as shown in the following output:"
     ]
    },
    {
     "cell_type": "code",
     "collapsed": false,
     "input": [
      "sqlite> .databases\n",
      "seq  name             file                                                      \n",
      "---  ---------------  ----------------------------------------------------------\n",
      "0    main             ~/novice/sql/survey.db "
     ],
     "language": "python",
     "metadata": {},
     "outputs": []
    },
    {
     "cell_type": "raw",
     "metadata": {},
     "source": [
      "You can check that the necessary tables \"Person\", \"Survey\", \"Site\" and \"Visited\" exist by typing:"
     ]
    },
    {
     "cell_type": "code",
     "collapsed": false,
     "input": [
      ".tables"
     ],
     "language": "python",
     "metadata": {},
     "outputs": []
    },
    {
     "cell_type": "markdown",
     "metadata": {},
     "source": [
      "and the output of \".tables\" would look like this:"
     ]
    },
    {
     "cell_type": "code",
     "collapsed": false,
     "input": [
      "sqlite> .tables\n",
      "Person   Site     Survey   Visited"
     ],
     "language": "python",
     "metadata": {},
     "outputs": []
    },
    {
     "cell_type": "markdown",
     "metadata": {},
     "source": [
      "Now, you are done with the setup and you can proceed to the next lesson. If you are using the command line SQLite, you can omit the IPython magic methods (the first rows in each command starting with %). \n",
      "\n",
      "However, if you want to use an IPython notebook to follow the examples, check if IPython is installed on your machine. If it is not installed, follow the [installation instructions](http://ipython.org/install.html). \n",
      "\n",
      "If IPython is already installed on your local machine, to open a notebook, type \"ipython notebook\" from within the ~/swc/sql folder. This command will launch the IPython kernel displaying an interactive notebook on your default browser, which can be edited as you learn. The commands shown in the next lessons can be executed as they are in the IPython notebook. When you are done, to keep your changes, dont forget to save your notebook."
     ]
    }
   ],
   "metadata": {}
  }
 ]
}